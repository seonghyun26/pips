{
 "cells": [
  {
   "cell_type": "code",
   "execution_count": 4,
   "metadata": {},
   "outputs": [
    {
     "name": "stderr",
     "output_type": "stream",
     "text": [
      "Warning: importing 'simtk.openmm' is deprecated.  Import 'openmm' instead.\n",
      "Warning on use of the timeseries module: If the inherent timescales of the system are long compared to those being analyzed, this statistical inefficiency may be an underestimate.  The estimate presumes the use of many statistically independent samples.  Tests should be performed to assess whether this condition is satisfied.   Be cautious in the interpretation of the data.\n",
      "WARNING:pymbar.mbar_solvers:\n",
      "****** PyMBAR will use 64-bit JAX! *******\n",
      "* JAX is currently set to 32-bit bitsize *\n",
      "* which is its default.                  *\n",
      "*                                        *\n",
      "* PyMBAR requires 64-bit mode and WILL   *\n",
      "* enable JAX's 64-bit mode when called.  *\n",
      "*                                        *\n",
      "* This MAY cause problems with other     *\n",
      "* Uses of JAX in the same code.          *\n",
      "******************************************\n",
      "\n"
     ]
    }
   ],
   "source": [
    "import numpy as np\n",
    "import torch\n",
    "\n",
    "from Dynamics.AlanineDynamics import AlanineDynamics\n",
    "from plotting.Loggers import CostsLogger\n",
    "from policies.Alanine import NNPolicy\n",
    "from solvers.PICE import PICE"
   ]
  },
  {
   "cell_type": "markdown",
   "metadata": {},
   "source": [
    "# Setup parameters"
   ]
  },
  {
   "cell_type": "code",
   "execution_count": 5,
   "metadata": {},
   "outputs": [],
   "source": [
    "# seed\n",
    "torch.manual_seed(42)\n",
    "\n",
    "# File setup\n",
    "file = \"./results/Alanine\"\n",
    "\n",
    "force = False  # if false -> use energy\n",
    "\n",
    "device = 'cuda'\n",
    "\n",
    "T = 5000.\n",
    "dt = torch.tensor(1.)\n",
    "n_steps = int(T / dt)\n",
    "\n",
    "n_rollouts = 10000\n",
    "n_samples = 16\n",
    "\n",
    "lr = 0.0001"
   ]
  },
  {
   "cell_type": "markdown",
   "metadata": {},
   "source": [
    "# Setup experiment environment and model"
   ]
  },
  {
   "cell_type": "code",
   "execution_count": 9,
   "metadata": {},
   "outputs": [
    {
     "name": "stdout",
     "output_type": "stream",
     "text": [
      "Generating target points\n"
     ]
    }
   ],
   "source": [
    "\n",
    "environment = AlanineDynamics(loss_func='pairwise_dist', n_samples=n_samples, device=device, save_file=file)\n",
    "\n",
    "dims = environment.dims\n",
    "\n",
    "std = torch.tensor(.05).to(device)\n",
    "R = torch.eye(dims).to(device)\n",
    "\n",
    "logger = CostsLogger(f'{file}')\n",
    "\n",
    "nn_policy = NNPolicy(device, dims=dims, force=force, T=T)"
   ]
  },
  {
   "cell_type": "markdown",
   "metadata": {},
   "source": [
    "# Training"
   ]
  },
  {
   "cell_type": "code",
   "execution_count": 10,
   "metadata": {
    "pycharm": {
     "name": "#%%\n"
    }
   },
   "outputs": [
    {
     "name": "stdout",
     "output_type": "stream",
     "text": [
      "Rollout: 0\n"
     ]
    },
    {
     "name": "stderr",
     "output_type": "stream",
     "text": [
      "  0%|          | 0/5000 [00:00<?, ?it/s]/home/shpark/prj-tps/SOCTransitionPaths/solvers/PICE.py:52: UserWarning: To copy construct from a tensor, it is recommended to use sourceTensor.clone().detach() or sourceTensor.clone().detach().requires_grad_(True), rather than torch.tensor(sourceTensor).\n",
      "  t = torch.tensor(s * dt)\n",
      "100%|██████████| 5000/5000 [05:02<00:00, 16.55it/s]\n"
     ]
    },
    {
     "name": "stdout",
     "output_type": "stream",
     "text": [
      "[0] -- mean phi: 10.05325824708341, mean final cost: 12.734990469521268\n",
      "Final cost improved, saving\n",
      "Phi cost improved, saving\n",
      "Rollout: 1\n"
     ]
    },
    {
     "name": "stderr",
     "output_type": "stream",
     "text": [
      "100%|██████████| 5000/5000 [05:05<00:00, 16.38it/s]\n"
     ]
    },
    {
     "name": "stdout",
     "output_type": "stream",
     "text": [
      "[1] -- mean phi: 10.057114051563467, mean final cost: 12.751132802946294\n",
      "Rollout: 2\n"
     ]
    },
    {
     "name": "stderr",
     "output_type": "stream",
     "text": [
      "100%|██████████| 5000/5000 [05:05<00:00, 16.38it/s]\n"
     ]
    },
    {
     "name": "stdout",
     "output_type": "stream",
     "text": [
      "[2] -- mean phi: 10.055610651030563, mean final cost: 12.747077727570556\n",
      "Rollout: 3\n"
     ]
    },
    {
     "name": "stderr",
     "output_type": "stream",
     "text": [
      "100%|██████████| 5000/5000 [05:06<00:00, 16.33it/s]\n"
     ]
    },
    {
     "name": "stdout",
     "output_type": "stream",
     "text": [
      "[3] -- mean phi: 10.067026379247755, mean final cost: 12.725040944954008\n",
      "Final cost improved, saving\n",
      "Rollout: 4\n"
     ]
    },
    {
     "name": "stderr",
     "output_type": "stream",
     "text": [
      " 25%|██▌       | 1272/5000 [01:18<03:43, 16.66it/s]"
     ]
    }
   ],
   "source": [
    "PICE(environment, nn_policy, n_rollouts, n_samples, n_steps, dt, std, dims * 2, R, logger, force, [], True, file,\n",
    "     device=device, lr=lr)\n",
    "\n",
    "torch.save(nn_policy, f'{file}/final_policy')"
   ]
  },
  {
   "cell_type": "code",
   "execution_count": null,
   "metadata": {},
   "outputs": [],
   "source": []
  }
 ],
 "metadata": {
  "interpreter": {
   "hash": "32d86c0ed489c74fa5ec2aa2ccbeedf511e8629c2444e4a2b1035ca2fdc39594"
  },
  "kernelspec": {
   "display_name": "Python 3.7.12 ('yuanqi')",
   "language": "python",
   "name": "python3"
  },
  "language_info": {
   "codemirror_mode": {
    "name": "ipython",
    "version": 3
   },
   "file_extension": ".py",
   "mimetype": "text/x-python",
   "name": "python",
   "nbconvert_exporter": "python",
   "pygments_lexer": "ipython3",
   "version": "3.9.19"
  },
  "orig_nbformat": 4
 },
 "nbformat": 4,
 "nbformat_minor": 2
}
